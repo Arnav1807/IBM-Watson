{
    "cells": [
        {
            "metadata": {},
            "cell_type": "code",
            "source": "a=int(input())\nb=int(input())\nc=a/b\nprint(c)",
            "execution_count": 10,
            "outputs": [
                {
                    "output_type": "stream",
                    "name": "stdout",
                    "text": "25\n12\n2.0833333333333335\n"
                }
            ]
        },
        {
            "metadata": {},
            "cell_type": "code",
            "source": "print(1+1)",
            "execution_count": 1,
            "outputs": [
                {
                    "output_type": "stream",
                    "text": "2\n",
                    "name": "stdout"
                }
            ]
        },
        {
            "metadata": {},
            "cell_type": "code",
            "source": "a=int(input())\nb=int(input())\nc=a+b\nprint(c)",
            "execution_count": 9,
            "outputs": [
                {
                    "output_type": "stream",
                    "name": "stdout",
                    "text": "5\n6\n11\n"
                }
            ]
        },
        {
            "metadata": {},
            "cell_type": "code",
            "source": "a=input()\nb=input()\nc=input()\nif a<b and a<c:\n    print(a)\nif b<a and b<c:\n    print(b)\nelse:\n    print(c)",
            "execution_count": 6,
            "outputs": [
                {
                    "output_type": "stream",
                    "name": "stdout",
                    "text": "45\n56\n25\n25\n"
                }
            ]
        },
        {
            "metadata": {},
            "cell_type": "code",
            "source": "a=int(input())\nb=int(input())\nc=a*b\nprint(c)",
            "execution_count": 11,
            "outputs": [
                {
                    "output_type": "stream",
                    "name": "stdout",
                    "text": "15\n12\n180\n"
                }
            ]
        }
    ],
    "metadata": {
        "kernelspec": {
            "name": "python3",
            "display_name": "Python 3.10",
            "language": "python"
        },
        "language_info": {
            "name": "python",
            "version": "3.10.6",
            "mimetype": "text/x-python",
            "codemirror_mode": {
                "name": "ipython",
                "version": 3
            },
            "pygments_lexer": "ipython3",
            "nbconvert_exporter": "python",
            "file_extension": ".py"
        }
    },
    "nbformat": 4,
    "nbformat_minor": 1
}